{
 "cells": [
  {
   "cell_type": "code",
   "execution_count": 1,
   "id": "cce4e16a-edf7-4b0e-9be1-63dbe847979b",
   "metadata": {},
   "outputs": [],
   "source": [
    "# Que1.Declare two variables, 'x' and 'y',and assign them integer values. Swap the values of these variables without using any temporary variables.\n",
    "\n",
    "var = x = 5\n",
    "var = y = 10"
   ]
  },
  {
   "cell_type": "code",
   "execution_count": 2,
   "id": "6090ffcb-4878-4b05-a985-e7181dcd7c1b",
   "metadata": {},
   "outputs": [],
   "source": [
    "x = x^y\n",
    "y = x^y\n",
    "x = x^y"
   ]
  },
  {
   "cell_type": "code",
   "execution_count": 3,
   "id": "2842513e-221b-4505-9b27-7ce866785c0a",
   "metadata": {},
   "outputs": [
    {
     "name": "stdout",
     "output_type": "stream",
     "text": [
      "after swapping:\n",
      "x = 10\n",
      "y = 5\n"
     ]
    }
   ],
   "source": [
    "print(\"after swapping:\")\n",
    "print(\"x =\",x)\n",
    "print(\"y =\",y)"
   ]
  },
  {
   "cell_type": "code",
   "execution_count": 4,
   "id": "72a96658-67cb-4166-bf7e-690e66261268",
   "metadata": {},
   "outputs": [
    {
     "name": "stdin",
     "output_type": "stream",
     "text": [
      "Enter the lenght of the rectangle:  12\n",
      "Enter the width of the rectangle:  18\n"
     ]
    }
   ],
   "source": [
    "#Que2.Crete a program that calculates the area of a rectangle. Take the lenght and width as inputs from the user and store them in variables. Calculate and disoplay the area.\n",
    "\n",
    "length = float(input(\"Enter the lenght of the rectangle: \"))\n",
    "width = float(input(\"Enter the width of the rectangle: \"))\n",
    "area = length * width"
   ]
  },
  {
   "cell_type": "code",
   "execution_count": 5,
   "id": "84e111e0-f223-4938-bb64-c795d5ef28dd",
   "metadata": {},
   "outputs": [
    {
     "name": "stdout",
     "output_type": "stream",
     "text": [
      "The area of the rectangle is: 216.0\n"
     ]
    }
   ],
   "source": [
    "print(\"The area of the rectangle is:\",area)"
   ]
  },
  {
   "cell_type": "code",
   "execution_count": 6,
   "id": "5fdb8e40-5a38-400a-af7f-4cc8ae769043",
   "metadata": {},
   "outputs": [
    {
     "name": "stdin",
     "output_type": "stream",
     "text": [
      "Enter the temperature in Celsius:  12\n"
     ]
    }
   ],
   "source": [
    "#Que3.Write a Python program that converts temperatures from Celsius to Fahrenheit.\n",
    "#Tate the temperature in Celsius as inout, store it in a variables,convers it to Fahrenheit, and display the result.\n",
    "#std formula F = (9/5)C + 32\n",
    "\n",
    "celsius = float(input(\"Enter the temperature in Celsius: \"))\n",
    "fahrenheit = (celsius * 9/5) + 32\n"
   ]
  },
  {
   "cell_type": "code",
   "execution_count": 7,
   "id": "253486ff-195d-4113-ad30-999b43d8d1a0",
   "metadata": {},
   "outputs": [
    {
     "name": "stdout",
     "output_type": "stream",
     "text": [
      "The temperature in Fahrenheit is: 53.6\n"
     ]
    }
   ],
   "source": [
    "print(\"The temperature in Fahrenheit is:\",fahrenheit)"
   ]
  },
  {
   "cell_type": "markdown",
   "id": "94b7ed98-af4a-4006-b88d-9e29ed117534",
   "metadata": {},
   "source": [
    "TOPIC: String Based Questions"
   ]
  },
  {
   "cell_type": "code",
   "execution_count": 9,
   "id": "8351cfbf-51c7-4f08-92c5-a158f0acadef",
   "metadata": {},
   "outputs": [
    {
     "name": "stdin",
     "output_type": "stream",
     "text": [
      "Enter a string: 12\n"
     ]
    }
   ],
   "source": [
    "#Que1. Write a python that takes a string as input and prinnts the lenght of the string.\n",
    "\n",
    "string = input(\"Enter a string:\")"
   ]
  },
  {
   "cell_type": "code",
   "execution_count": 10,
   "id": "0ced00f1-85c2-4940-aedd-bc9e368426b4",
   "metadata": {},
   "outputs": [],
   "source": [
    "lenght = len(string)"
   ]
  },
  {
   "cell_type": "code",
   "execution_count": 11,
   "id": "3b3d774f-ddf4-4567-84ac-0bf899372bd6",
   "metadata": {},
   "outputs": [
    {
     "name": "stdout",
     "output_type": "stream",
     "text": [
      "The lenght of the string is: 2\n"
     ]
    }
   ],
   "source": [
    "print(\"The lenght of the string is:\",lenght)"
   ]
  },
  {
   "cell_type": "code",
   "execution_count": 12,
   "id": "c15f4adb-1098-4b47-98c5-e674173c513c",
   "metadata": {},
   "outputs": [
    {
     "name": "stdin",
     "output_type": "stream",
     "text": [
      "Please enter a sentence: \"Hello,how are you\"\n"
     ]
    }
   ],
   "source": [
    "#Que2. Create a program that takes a sentence from the user and \n",
    "#counts the number of vowels(a,e,i,o,u) in the string.\n",
    "sentence = input(\"Please enter a sentence:\")"
   ]
  },
  {
   "cell_type": "code",
   "execution_count": 13,
   "id": "4f63c52f-0011-419c-a24a-2fb3f7055d91",
   "metadata": {},
   "outputs": [],
   "source": [
    "sentence = sentence.lower()"
   ]
  },
  {
   "cell_type": "code",
   "execution_count": 14,
   "id": "f3b91292-811d-4ac6-93f2-cb5f37fa2459",
   "metadata": {},
   "outputs": [],
   "source": [
    "vowel_count = 0"
   ]
  },
  {
   "cell_type": "code",
   "execution_count": 15,
   "id": "518a3d1d-d90e-48db-8ebf-780bcdd2f7fc",
   "metadata": {},
   "outputs": [],
   "source": [
    "for char in sentence:\n",
    "    if char in \"aeiou\":\n",
    "     vowel_count += 1"
   ]
  },
  {
   "cell_type": "code",
   "execution_count": 16,
   "id": "2ac5611f-f79b-4edd-853c-a83e425c5343",
   "metadata": {},
   "outputs": [
    {
     "name": "stdout",
     "output_type": "stream",
     "text": [
      "The number of vowels in the sentence is: 7\n"
     ]
    }
   ],
   "source": [
    "print(\"The number of vowels in the sentence is:\", vowel_count)"
   ]
  },
  {
   "cell_type": "code",
   "execution_count": 17,
   "id": "ca3818e2-8b1a-420f-9859-c8c0c884a539",
   "metadata": {},
   "outputs": [
    {
     "name": "stdin",
     "output_type": "stream",
     "text": [
      "Please enter a sentence: \"My name is mahi\"\n"
     ]
    }
   ],
   "source": [
    "# OR when i want to change the output (a,e,i,o,u)\n",
    "\n",
    "sentence = input(\"Please enter a sentence:\")"
   ]
  },
  {
   "cell_type": "code",
   "execution_count": 18,
   "id": "1d28ae81-9c54-4717-be1d-d0b24a82e8ca",
   "metadata": {},
   "outputs": [],
   "source": [
    "sentence = sentence.lower()\n",
    "vowel_count = 0\n",
    "for char in sentence:\n",
    "    if char.lower() in \"aeiou\":\n",
    "     vowel_count += 1\n"
   ]
  },
  {
   "cell_type": "code",
   "execution_count": 19,
   "id": "a93ba053-0198-4399-b468-f3a4a6733d27",
   "metadata": {},
   "outputs": [
    {
     "name": "stdout",
     "output_type": "stream",
     "text": [
      "The number of vowels in the sentence is: 5\n"
     ]
    }
   ],
   "source": [
    "print(\"The number of vowels in the sentence is:\", vowel_count)"
   ]
  },
  {
   "cell_type": "code",
   "execution_count": 20,
   "id": "c545d3ef-c77e-4eda-8684-f932b58a3447",
   "metadata": {},
   "outputs": [
    {
     "name": "stdin",
     "output_type": "stream",
     "text": [
      "Enter a string: \"Hello,world\"\n"
     ]
    }
   ],
   "source": [
    "#Que3. Give a string,reverse the order of characters using string slicing and print the reversed string.\n",
    "       \n",
    "input_string = input(\"Enter a string:\")\n"
   ]
  },
  {
   "cell_type": "code",
   "execution_count": 21,
   "id": "cf1bb84e-d23b-48be-9c98-98bc4a95871a",
   "metadata": {},
   "outputs": [],
   "source": [
    " reversed_string = input_string[::-1]\n",
    "    "
   ]
  },
  {
   "cell_type": "code",
   "execution_count": 22,
   "id": "8aa6d1c8-5a4b-4fa2-a717-3870d6e1fc08",
   "metadata": {},
   "outputs": [
    {
     "name": "stdout",
     "output_type": "stream",
     "text": [
      "Reversed string: \"dlrow,olleH\"\n"
     ]
    }
   ],
   "source": [
    "print(\"Reversed string:\", reversed_string)"
   ]
  },
  {
   "cell_type": "code",
   "execution_count": 23,
   "id": "979095c3-4193-455c-9e4c-d3a0def412ff",
   "metadata": {},
   "outputs": [],
   "source": [
    "#Que4. Write a program that takes a string as input and checks if it is a palindrome (reads the same forwards and backwards).\n",
    "\n",
    "def is_palindrome(string):\n",
    "    strinstring = string.replace(\" \",\" \").lower()\n",
    "   "
   ]
  },
  {
   "cell_type": "raw",
   "id": "f1c17172-10cf-42b4-bf76-dbc8162d9733",
   "metadata": {},
   "source": [
    "if string == string[::-1]:\n",
    "return True\n",
    "else:\n",
    "return False"
   ]
  },
  {
   "cell_type": "code",
   "execution_count": 24,
   "id": "2ed7f7e1-e95c-4792-a202-2e3212f850c4",
   "metadata": {},
   "outputs": [
    {
     "name": "stdin",
     "output_type": "stream",
     "text": [
      "Enter a string: \"Hello,my name is kunal\"\n"
     ]
    }
   ],
   "source": [
    "user_input = input(\"Enter a string:\")"
   ]
  },
  {
   "cell_type": "code",
   "execution_count": 25,
   "id": "127168b7-cc9c-4dbe-b1d4-b870bb8a57ed",
   "metadata": {},
   "outputs": [
    {
     "name": "stdout",
     "output_type": "stream",
     "text": [
      "NO,it is not a palindrome.\n"
     ]
    }
   ],
   "source": [
    "if is_palindrome(user_input):\n",
    "    print(\"Yes,it is a palindrome!\")\n",
    "else:\n",
    "        print(\"NO,it is not a palindrome.\") "
   ]
  },
  {
   "cell_type": "code",
   "execution_count": 26,
   "id": "2c86d7de-6ce2-4aec-a775-34ff9ae0307a",
   "metadata": {},
   "outputs": [],
   "source": [
    "#Que 5:> Create a program that takes a string as input and removes all the spaces frome it. Print the modified string without spaces.\n",
    "def remove_spaces(string):\n",
    " modified_string = \"\".join(string.split())\n",
    " return modified_string"
   ]
  },
  {
   "cell_type": "code",
   "execution_count": 27,
   "id": "b9111f08-9950-4130-b120-a4caa4fe5a67",
   "metadata": {},
   "outputs": [
    {
     "name": "stdin",
     "output_type": "stream",
     "text": [
      "Enter a string: \"I love coding very much\"\n"
     ]
    }
   ],
   "source": [
    "user_input = input(\"Enter a string:\")"
   ]
  },
  {
   "cell_type": "code",
   "execution_count": 28,
   "id": "d146ee55-c230-4497-9e0d-3ad49d1eaeed",
   "metadata": {},
   "outputs": [],
   "source": [
    "modified_input = remove_spaces(user_input)"
   ]
  },
  {
   "cell_type": "code",
   "execution_count": 29,
   "id": "7fd8398c-114e-4ad9-a4df-30cf28628cea",
   "metadata": {},
   "outputs": [
    {
     "name": "stdout",
     "output_type": "stream",
     "text": [
      "\"Ilovecodingverymuch\"\n"
     ]
    }
   ],
   "source": [
    "print(modified_input)"
   ]
  },
  {
   "cell_type": "code",
   "execution_count": null,
   "id": "82ae60dd-76ca-4df8-809d-7b2a4091efc4",
   "metadata": {},
   "outputs": [],
   "source": []
  }
 ],
 "metadata": {
  "kernelspec": {
   "display_name": "Python 3 (ipykernel)",
   "language": "python",
   "name": "python3"
  },
  "language_info": {
   "codemirror_mode": {
    "name": "ipython",
    "version": 3
   },
   "file_extension": ".py",
   "mimetype": "text/x-python",
   "name": "python",
   "nbconvert_exporter": "python",
   "pygments_lexer": "ipython3",
   "version": "3.10.8"
  }
 },
 "nbformat": 4,
 "nbformat_minor": 5
}
